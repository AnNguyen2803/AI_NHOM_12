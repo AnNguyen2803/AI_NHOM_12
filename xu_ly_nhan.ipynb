{
 "cells": [
  {
   "cell_type": "code",
   "execution_count": 7,
   "id": "08b34bf8",
   "metadata": {},
   "outputs": [],
   "source": [
    "import pandas as pd\n",
    "\n",
    "df = pd.read_excel(\"Finaldataset.xlsx\")\n"
   ]
  },
  {
   "cell_type": "code",
   "execution_count": 16,
   "id": "ba52e4c2",
   "metadata": {},
   "outputs": [],
   "source": [
    "def filter_labels(file_path, output_path, label_column, selected_labels):\n",
    "    # Đọc dữ liệu từ file Excel\n",
    "    df = pd.read_excel(file_path)\n",
    "    \n",
    "    # Lọc dữ liệu chỉ lấy các nhãn cụ thể\n",
    "    df_filtered = df[df[label_column].isin(selected_labels)]\n",
    "    \n",
    "    # Lưu kết quả vào file Excel mới\n",
    "    df_filtered.to_excel(output_path, index=False)\n",
    "    print(f\"Dữ liệu đã được lưu vào {output_path}\")"
   ]
  },
  {
   "cell_type": "code",
   "execution_count": 18,
   "id": "aedc19e3",
   "metadata": {},
   "outputs": [],
   "source": [
    "file_path = \"Finaldataset.xlsx\"\n",
    "output_path = 'data_xuly.xlsx'\n",
    "label_column = 'label'\n",
    "selected_labels = ['Am_nhac', 'Am_thuc', 'Bat_dong_san', 'Bong_da', 'Chung_khoan',\n",
    "                   'Thoi_trang', 'Du_lich', 'Gia_dinh', 'Giai_tri_tin_hoc', 'Giao_duc']"
   ]
  },
  {
   "cell_type": "code",
   "execution_count": 19,
   "id": "36885e2d",
   "metadata": {},
   "outputs": [
    {
     "name": "stdout",
     "output_type": "stream",
     "text": [
      "Dữ liệu đã được lưu vào data_xuly.xlsx\n"
     ]
    }
   ],
   "source": [
    "filter_labels(file_path, output_path, label_column, selected_labels)"
   ]
  },
  {
   "cell_type": "code",
   "execution_count": null,
   "id": "7561ae7d",
   "metadata": {},
   "outputs": [],
   "source": []
  }
 ],
 "metadata": {
  "kernelspec": {
   "display_name": "Python 3 (ipykernel)",
   "language": "python",
   "name": "python3"
  },
  "language_info": {
   "codemirror_mode": {
    "name": "ipython",
    "version": 3
   },
   "file_extension": ".py",
   "mimetype": "text/x-python",
   "name": "python",
   "nbconvert_exporter": "python",
   "pygments_lexer": "ipython3",
   "version": "3.11.5"
  }
 },
 "nbformat": 4,
 "nbformat_minor": 5
}
