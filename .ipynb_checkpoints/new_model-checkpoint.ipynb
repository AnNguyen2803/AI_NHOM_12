{
 "cells": [
  {
   "cell_type": "code",
   "execution_count": 1,
   "id": "c0b58660",
   "metadata": {},
   "outputs": [],
   "source": [
    "import pandas as pd\n",
    "import numpy as np\n",
    "import nltk\n",
    "from nltk.tokenize import word_tokenize\n",
    "from sklearn.preprocessing import LabelEncoder\n",
    "from sklearn.model_selection import train_test_split, KFold\n",
    "from tensorflow.keras.preprocessing.text import Tokenizer\n",
    "from tensorflow.keras.preprocessing.sequence import pad_sequences\n",
    "from tensorflow.keras.models import Sequential\n",
    "from tensorflow.keras.layers import Embedding, LSTM, Bidirectional, Dense, SpatialDropout1D, Conv1D, MaxPooling1D, Flatten\n",
    "from tensorflow.keras.utils import to_categorical\n",
    "from gensim.models import KeyedVectors\n",
    "import requests"
   ]
  },
  {
   "cell_type": "code",
   "execution_count": 2,
   "id": "af36afab",
   "metadata": {},
   "outputs": [
    {
     "name": "stderr",
     "output_type": "stream",
     "text": [
      "[nltk_data] Downloading package punkt to\n",
      "[nltk_data]     C:\\Users\\AN\\AppData\\Roaming\\nltk_data...\n",
      "[nltk_data]   Package punkt is already up-to-date!\n"
     ]
    },
    {
     "data": {
      "text/plain": [
       "True"
      ]
     },
     "execution_count": 2,
     "metadata": {},
     "output_type": "execute_result"
    }
   ],
   "source": [
    "# Tải các tài nguyên cần thiết từ NLTK\n",
    "nltk.download('punkt')"
   ]
  },
  {
   "cell_type": "code",
   "execution_count": 3,
   "id": "30a7c2e6",
   "metadata": {},
   "outputs": [],
   "source": [
    "# Tải nội dung của tệp stop_words.py từ GitHub\n",
    "url = 'https://raw.githubusercontent.com/trungtv/vivi_spacy/master/vi/vi/stop_words.py'\n",
    "response = requests.get(url)\n",
    "stop_words_content = response.text"
   ]
  },
  {
   "cell_type": "code",
   "execution_count": 4,
   "id": "33de7dad",
   "metadata": {},
   "outputs": [],
   "source": [
    "# Phân tích nội dung của tệp stop_words.py để lấy danh sách stopwords\n",
    "start_index = stop_words_content.find('\"\"\"') + 3\n",
    "end_index = stop_words_content.rfind('\"\"\"')\n",
    "stop_words_list = stop_words_content[start_index:end_index].split(\"\\n\")\n",
    "# Tạo danh sách stopwords từ danh sách bạn vừa phân tích\n",
    "stop_words = set(word.strip() for word in stop_words_list if word.strip())"
   ]
  },
  {
   "cell_type": "code",
   "execution_count": 5,
   "id": "7263dab4",
   "metadata": {},
   "outputs": [],
   "source": [
    "# Tiền xử lý văn bản\n",
    "def preprocess_text(text):\n",
    "    words = word_tokenize(text.lower())\n",
    "    filtered_words = [word for word in words if word not in stop_words and word.isalnum()]\n",
    "    return ' '.join(filtered_words)"
   ]
  },
  {
   "cell_type": "code",
   "execution_count": 6,
   "id": "105cfdf5",
   "metadata": {},
   "outputs": [],
   "source": [
    "# Load dữ liệu\n",
    "df = pd.read_excel('data_xuly.xlsx')\n",
    "df.dropna(axis=1, how='all', inplace=True)\n",
    "contents = df['content'].tolist()\n",
    "topics = df['label'].tolist()\n",
    "contents = [str(content).strip() for content in contents]\n",
    "processed_contents = [preprocess_text(content) for content in contents]"
   ]
  },
  {
   "cell_type": "code",
   "execution_count": 7,
   "id": "ae3ca763",
   "metadata": {},
   "outputs": [],
   "source": [
    "# Tiền xử lý nhãn\n",
    "label_encoder = LabelEncoder()\n",
    "y = label_encoder.fit_transform(topics)\n",
    "num_classes = len(set(y))\n",
    "y = to_categorical(y, num_classes=num_classes)"
   ]
  },
  {
   "cell_type": "code",
   "execution_count": 8,
   "id": "7c3b57cb",
   "metadata": {},
   "outputs": [],
   "source": [
    "# Tokenization và padding\n",
    "tokenizer = Tokenizer(num_words=20000)\n",
    "tokenizer.fit_on_texts(processed_contents)\n",
    "X = tokenizer.texts_to_sequences(processed_contents)\n",
    "X = pad_sequences(X, maxlen=500)"
   ]
  },
  {
   "cell_type": "code",
   "execution_count": 9,
   "id": "896bb601",
   "metadata": {},
   "outputs": [],
   "source": [
    "# Cross-validation\n",
    "kf = KFold(n_splits=4, shuffle=True, random_state=42)\n",
    "accuracy_scores = []\n",
    "best_accuracy = 0\n",
    "best_model = None"
   ]
  },
  {
   "cell_type": "code",
   "execution_count": 10,
   "id": "8995dd65",
   "metadata": {},
   "outputs": [
    {
     "name": "stderr",
     "output_type": "stream",
     "text": [
      "C:\\Users\\AN\\Documents\\anaconda\\Lib\\site-packages\\keras\\src\\layers\\core\\embedding.py:90: UserWarning: Argument `input_length` is deprecated. Just remove it.\n",
      "  warnings.warn(\n"
     ]
    },
    {
     "name": "stdout",
     "output_type": "stream",
     "text": [
      "Epoch 1/10\n",
      "39/39 - 89s - 2s/step - accuracy: 0.3504 - loss: 1.8625 - val_accuracy: 0.4603 - val_loss: 1.5922\n",
      "Epoch 2/10\n",
      "39/39 - 89s - 2s/step - accuracy: 0.4763 - loss: 1.4811 - val_accuracy: 0.4911 - val_loss: 1.3707\n",
      "Epoch 3/10\n",
      "39/39 - 88s - 2s/step - accuracy: 0.6242 - loss: 1.1332 - val_accuracy: 0.7218 - val_loss: 0.8654\n",
      "Epoch 4/10\n",
      "39/39 - 95s - 2s/step - accuracy: 0.7450 - loss: 0.7657 - val_accuracy: 0.7637 - val_loss: 0.7022\n",
      "Epoch 5/10\n",
      "39/39 - 94s - 2s/step - accuracy: 0.8031 - loss: 0.5612 - val_accuracy: 0.8055 - val_loss: 0.6125\n",
      "Epoch 6/10\n",
      "39/39 - 92s - 2s/step - accuracy: 0.8488 - loss: 0.4481 - val_accuracy: 0.7969 - val_loss: 0.6540\n",
      "Epoch 7/10\n",
      "39/39 - 92s - 2s/step - accuracy: 0.8708 - loss: 0.3872 - val_accuracy: 0.7951 - val_loss: 0.6522\n",
      "Epoch 8/10\n",
      "39/39 - 93s - 2s/step - accuracy: 0.9032 - loss: 0.3099 - val_accuracy: 0.8240 - val_loss: 0.6113\n",
      "Epoch 9/10\n",
      "39/39 - 93s - 2s/step - accuracy: 0.9194 - loss: 0.2448 - val_accuracy: 0.8185 - val_loss: 0.6400\n",
      "Epoch 10/10\n",
      "39/39 - 94s - 2s/step - accuracy: 0.9274 - loss: 0.2180 - val_accuracy: 0.8271 - val_loss: 0.6375\n",
      "Fold accuracy: 0.8270769119262695\n",
      "Epoch 1/10\n",
      "39/39 - 91s - 2s/step - accuracy: 0.3415 - loss: 1.8888 - val_accuracy: 0.4517 - val_loss: 1.4965\n",
      "Epoch 2/10\n",
      "39/39 - 85s - 2s/step - accuracy: 0.4788 - loss: 1.4733 - val_accuracy: 0.5477 - val_loss: 1.2806\n",
      "Epoch 3/10\n",
      "39/39 - 86s - 2s/step - accuracy: 0.5945 - loss: 1.1748 - val_accuracy: 0.6911 - val_loss: 0.9744\n",
      "Epoch 4/10\n",
      "39/39 - 87s - 2s/step - accuracy: 0.7405 - loss: 0.7948 - val_accuracy: 0.7458 - val_loss: 0.7690\n",
      "Epoch 5/10\n",
      "39/39 - 86s - 2s/step - accuracy: 0.8176 - loss: 0.5645 - val_accuracy: 0.8092 - val_loss: 0.6080\n",
      "Epoch 6/10\n",
      "39/39 - 87s - 2s/step - accuracy: 0.8570 - loss: 0.4438 - val_accuracy: 0.8154 - val_loss: 0.6044\n",
      "Epoch 7/10\n",
      "39/39 - 87s - 2s/step - accuracy: 0.8978 - loss: 0.3221 - val_accuracy: 0.8400 - val_loss: 0.5626\n",
      "Epoch 8/10\n",
      "39/39 - 89s - 2s/step - accuracy: 0.9206 - loss: 0.2596 - val_accuracy: 0.8462 - val_loss: 0.5511\n",
      "Epoch 9/10\n",
      "39/39 - 88s - 2s/step - accuracy: 0.9294 - loss: 0.2171 - val_accuracy: 0.8455 - val_loss: 0.5795\n",
      "Epoch 10/10\n",
      "39/39 - 88s - 2s/step - accuracy: 0.9448 - loss: 0.1812 - val_accuracy: 0.8314 - val_loss: 0.6375\n",
      "Fold accuracy: 0.8313845992088318\n",
      "Epoch 1/10\n",
      "39/39 - 94s - 2s/step - accuracy: 0.3348 - loss: 1.8980 - val_accuracy: 0.4142 - val_loss: 1.5325\n",
      "Epoch 2/10\n",
      "39/39 - 91s - 2s/step - accuracy: 0.4581 - loss: 1.4984 - val_accuracy: 0.5126 - val_loss: 1.3734\n",
      "Epoch 3/10\n",
      "39/39 - 91s - 2s/step - accuracy: 0.6230 - loss: 1.1184 - val_accuracy: 0.7108 - val_loss: 0.8528\n",
      "Epoch 4/10\n",
      "39/39 - 91s - 2s/step - accuracy: 0.7662 - loss: 0.7166 - val_accuracy: 0.8012 - val_loss: 0.5879\n",
      "Epoch 5/10\n",
      "39/39 - 92s - 2s/step - accuracy: 0.8238 - loss: 0.5298 - val_accuracy: 0.8222 - val_loss: 0.5413\n",
      "Epoch 6/10\n",
      "39/39 - 92s - 2s/step - accuracy: 0.8609 - loss: 0.4268 - val_accuracy: 0.8462 - val_loss: 0.4812\n",
      "Epoch 7/10\n",
      "39/39 - 92s - 2s/step - accuracy: 0.8853 - loss: 0.3437 - val_accuracy: 0.8560 - val_loss: 0.4793\n",
      "Epoch 8/10\n",
      "39/39 - 92s - 2s/step - accuracy: 0.8972 - loss: 0.3123 - val_accuracy: 0.8566 - val_loss: 0.4751\n",
      "Epoch 9/10\n",
      "39/39 - 93s - 2s/step - accuracy: 0.9290 - loss: 0.2240 - val_accuracy: 0.8468 - val_loss: 0.5167\n",
      "Epoch 10/10\n",
      "39/39 - 94s - 2s/step - accuracy: 0.9288 - loss: 0.2170 - val_accuracy: 0.8412 - val_loss: 0.5537\n",
      "Fold accuracy: 0.8412307500839233\n",
      "Epoch 1/10\n",
      "39/39 - 115s - 3s/step - accuracy: 0.3432 - loss: 1.9061 - val_accuracy: 0.4295 - val_loss: 1.5151\n",
      "Epoch 2/10\n",
      "39/39 - 104s - 3s/step - accuracy: 0.4911 - loss: 1.4639 - val_accuracy: 0.5803 - val_loss: 1.2010\n",
      "Epoch 3/10\n",
      "39/39 - 104s - 3s/step - accuracy: 0.6548 - loss: 1.0324 - val_accuracy: 0.7637 - val_loss: 0.7085\n",
      "Epoch 4/10\n",
      "39/39 - 105s - 3s/step - accuracy: 0.7713 - loss: 0.6743 - val_accuracy: 0.8203 - val_loss: 0.5456\n",
      "Epoch 5/10\n",
      "39/39 - 105s - 3s/step - accuracy: 0.8205 - loss: 0.5194 - val_accuracy: 0.8271 - val_loss: 0.5276\n",
      "Epoch 6/10\n",
      "39/39 - 107s - 3s/step - accuracy: 0.8558 - loss: 0.4113 - val_accuracy: 0.8369 - val_loss: 0.5025\n",
      "Epoch 7/10\n",
      "39/39 - 107s - 3s/step - accuracy: 0.8888 - loss: 0.3304 - val_accuracy: 0.8289 - val_loss: 0.5055\n",
      "Epoch 8/10\n",
      "39/39 - 106s - 3s/step - accuracy: 0.9069 - loss: 0.2812 - val_accuracy: 0.8462 - val_loss: 0.5231\n",
      "Epoch 9/10\n",
      "39/39 - 107s - 3s/step - accuracy: 0.9075 - loss: 0.2818 - val_accuracy: 0.8363 - val_loss: 0.5789\n",
      "Epoch 10/10\n",
      "39/39 - 107s - 3s/step - accuracy: 0.9194 - loss: 0.2505 - val_accuracy: 0.8554 - val_loss: 0.5242\n",
      "Fold accuracy: 0.8553845882415771\n"
     ]
    }
   ],
   "source": [
    "for train_index, test_index in kf.split(X):\n",
    "    X_train, X_test = X[train_index], X[test_index]\n",
    "    y_train, y_test = y[train_index], y[test_index]\n",
    "\n",
    "    # Xây dựng mô hình Bidirectional LSTM\n",
    "    model = Sequential()\n",
    "    model.add(Embedding(input_dim=20000, output_dim=128, input_length=500))\n",
    "    model.add(SpatialDropout1D(0.3))\n",
    "    model.add(Bidirectional(LSTM(128, dropout=0.3, recurrent_dropout=0.3)))\n",
    "    model.add(Dense(256, activation='relu'))\n",
    "    model.add(Dense(num_classes, activation='softmax'))\n",
    "    model.compile(loss='categorical_crossentropy', optimizer='adam', metrics=['accuracy'])\n",
    "\n",
    "    # Huấn luyện mô hình\n",
    "    model.fit(X_train, y_train, epochs=10, batch_size=128, validation_data=(X_test, y_test), verbose=2)\n",
    "\n",
    "    # Đánh giá mô hình\n",
    "    loss, accuracy = model.evaluate(X_test, y_test, verbose=0)\n",
    "    accuracy_scores.append(accuracy)\n",
    "    print(f\"Fold accuracy: {accuracy}\")\n",
    "\n",
    "    # Lưu lại mô hình có độ chính xác cao nhất\n",
    "    if accuracy > best_accuracy:\n",
    "        best_accuracy = accuracy\n",
    "        best_model = model"
   ]
  },
  {
   "cell_type": "code",
   "execution_count": 12,
   "id": "76de8b09",
   "metadata": {},
   "outputs": [
    {
     "name": "stderr",
     "output_type": "stream",
     "text": [
      "WARNING:absl:You are saving your model as an HDF5 file via `model.save()` or `keras.saving.save_model(model)`. This file format is considered legacy. We recommend using instead the native Keras format, e.g. `model.save('my_model.keras')` or `keras.saving.save_model(model, 'my_model.keras')`. \n"
     ]
    }
   ],
   "source": [
    "best_model.save('best_model2.h5')"
   ]
  },
  {
   "cell_type": "code",
   "execution_count": 20,
   "id": "db124af8",
   "metadata": {},
   "outputs": [
    {
     "name": "stdout",
     "output_type": "stream",
     "text": [
      "Best accuracy: 0.8553845882415771\n"
     ]
    }
   ],
   "source": [
    "print(f\"Best accuracy: {best_accuracy}\")"
   ]
  },
  {
   "cell_type": "code",
   "execution_count": 13,
   "id": "a37d721e",
   "metadata": {},
   "outputs": [],
   "source": [
    "import tensorflow as tf"
   ]
  },
  {
   "cell_type": "code",
   "execution_count": 14,
   "id": "089c2015",
   "metadata": {},
   "outputs": [
    {
     "name": "stderr",
     "output_type": "stream",
     "text": [
      "WARNING:absl:Compiled the loaded model, but the compiled metrics have yet to be built. `model.compile_metrics` will be empty until you train or evaluate the model.\n"
     ]
    }
   ],
   "source": [
    "loaded_model = tf.keras.models.load_model('best_model2.h5')"
   ]
  },
  {
   "cell_type": "code",
   "execution_count": 15,
   "id": "8f2555ee",
   "metadata": {},
   "outputs": [],
   "source": [
    "def predict_title(content):\n",
    "    processed_title = preprocess_text(content)\n",
    "    sequence = tokenizer.texts_to_sequences([processed_title])\n",
    "    padded_sequence = pad_sequences(sequence, maxlen=200)\n",
    "    prediction = loaded_model.predict(padded_sequence)\n",
    "    predicted_class = np.argmax(prediction, axis=1)\n",
    "    predicted_label = label_encoder.inverse_transform(predicted_class)\n",
    "    return predicted_label[0]"
   ]
  },
  {
   "cell_type": "code",
   "execution_count": 16,
   "id": "531659c3",
   "metadata": {},
   "outputs": [
    {
     "name": "stdout",
     "output_type": "stream",
     "text": [
      "\u001b[1m1/1\u001b[0m \u001b[32m━━━━━━━━━━━━━━━━━━━━\u001b[0m\u001b[37m\u001b[0m \u001b[1m0s\u001b[0m 397ms/step\n",
      "Predicted topic: Bong_da\n"
     ]
    }
   ],
   "source": [
    "# Sử dụng hàm dự đoán\n",
    "content = \"Theo lịch thi đấu bóng đá hôm nay, ngày 11/6 - 12/6, người hâm mộ bóng đá có thể xem trực tiếp đội tuyển Việt Nam thi đấu với ĐT Iraq tại Vòng loại thứ 2 World Cup 2026.Trận đấu giữa ĐT Việt Nam và ĐT Iraq diễn ra lúc 1h ngày 12/6 (giờ Việt Nam) trên sân Basra, theo lịch thi đấu vòng loại World Cup 2024 khu vực châu Á.Theo lịch tường thuật trực tiếp bóng đá ngày 11/6 và 12/6, chưa có đơn vị truyền thông hay kênh truyền hình Việt Nam nào sở hữu bản quyền phát sóng trận đấu đội tuyển Việt Nam - đội tuyển Iraq đêm nay.\"\n",
    "predicted_topic = predict_title(content)\n",
    "print(f\"Predicted topic: {predicted_topic}\")"
   ]
  },
  {
   "cell_type": "code",
   "execution_count": 17,
   "id": "c4ea6aac",
   "metadata": {},
   "outputs": [],
   "source": [
    "from flask import Flask, request, jsonify"
   ]
  },
  {
   "cell_type": "code",
   "execution_count": 18,
   "id": "55732d06",
   "metadata": {},
   "outputs": [],
   "source": [
    "app = Flask(__name__)"
   ]
  },
  {
   "cell_type": "code",
   "execution_count": 19,
   "id": "a75a77af",
   "metadata": {},
   "outputs": [
    {
     "name": "stdout",
     "output_type": "stream",
     "text": [
      " * Serving Flask app '__main__'\n",
      " * Debug mode: on\n"
     ]
    },
    {
     "name": "stderr",
     "output_type": "stream",
     "text": [
      "INFO:werkzeug:\u001b[31m\u001b[1mWARNING: This is a development server. Do not use it in a production deployment. Use a production WSGI server instead.\u001b[0m\n",
      " * Running on http://127.0.0.1:5000\n",
      "INFO:werkzeug:\u001b[33mPress CTRL+C to quit\u001b[0m\n",
      "INFO:werkzeug:127.0.0.1 - - [11/Jun/2024 18:38:25] \"\u001b[35m\u001b[1mPOST /predict HTTP/1.1\u001b[0m\" 500 -\n",
      "Traceback (most recent call last):\n",
      "  File \"C:\\Users\\AN\\Documents\\anaconda\\Lib\\site-packages\\flask\\app.py\", line 2548, in __call__\n",
      "    return self.wsgi_app(environ, start_response)\n",
      "           ^^^^^^^^^^^^^^^^^^^^^^^^^^^^^^^^^^^^^^\n",
      "  File \"C:\\Users\\AN\\Documents\\anaconda\\Lib\\site-packages\\flask\\app.py\", line 2528, in wsgi_app\n",
      "    response = self.handle_exception(e)\n",
      "               ^^^^^^^^^^^^^^^^^^^^^^^^\n",
      "  File \"C:\\Users\\AN\\Documents\\anaconda\\Lib\\site-packages\\flask\\app.py\", line 2525, in wsgi_app\n",
      "    response = self.full_dispatch_request()\n",
      "               ^^^^^^^^^^^^^^^^^^^^^^^^^^^^\n",
      "  File \"C:\\Users\\AN\\Documents\\anaconda\\Lib\\site-packages\\flask\\app.py\", line 1822, in full_dispatch_request\n",
      "    rv = self.handle_user_exception(e)\n",
      "         ^^^^^^^^^^^^^^^^^^^^^^^^^^^^^\n",
      "  File \"C:\\Users\\AN\\Documents\\anaconda\\Lib\\site-packages\\flask\\app.py\", line 1820, in full_dispatch_request\n",
      "    rv = self.dispatch_request()\n",
      "         ^^^^^^^^^^^^^^^^^^^^^^^\n",
      "  File \"C:\\Users\\AN\\Documents\\anaconda\\Lib\\site-packages\\flask\\app.py\", line 1796, in dispatch_request\n",
      "    return self.ensure_sync(self.view_functions[rule.endpoint])(**view_args)\n",
      "           ^^^^^^^^^^^^^^^^^^^^^^^^^^^^^^^^^^^^^^^^^^^^^^^^^^^^^^^^^^^^^^^^^\n",
      "  File \"C:\\Users\\AN\\AppData\\Local\\Temp\\ipykernel_13376\\578833443.py\", line 3, in predict\n",
      "    content = request.json['content']\n",
      "              ^^^^^^^^^^^^^^^^^^^^^^^\n",
      "KeyError: 'content'\n"
     ]
    },
    {
     "name": "stdout",
     "output_type": "stream",
     "text": [
      "\u001b[1m1/1\u001b[0m \u001b[32m━━━━━━━━━━━━━━━━━━━━\u001b[0m\u001b[37m\u001b[0m \u001b[1m0s\u001b[0m 53ms/step\n"
     ]
    },
    {
     "name": "stderr",
     "output_type": "stream",
     "text": [
      "INFO:werkzeug:127.0.0.1 - - [11/Jun/2024 18:38:50] \"POST /predict HTTP/1.1\" 200 -\n"
     ]
    }
   ],
   "source": [
    "@app.route('/predict', methods=['POST'])\n",
    "def predict():\n",
    "    content = request.json['content']\n",
    "    predicted_topic = predict_title(content)\n",
    "    return jsonify({'predicted_topic': predicted_topic})\n",
    "\n",
    "if __name__ == '__main__':\n",
    "    app.run(debug=True, use_reloader=False)"
   ]
  },
  {
   "cell_type": "code",
   "execution_count": null,
   "id": "cc9e839f",
   "metadata": {},
   "outputs": [],
   "source": []
  }
 ],
 "metadata": {
  "kernelspec": {
   "display_name": "Python 3 (ipykernel)",
   "language": "python",
   "name": "python3"
  },
  "language_info": {
   "codemirror_mode": {
    "name": "ipython",
    "version": 3
   },
   "file_extension": ".py",
   "mimetype": "text/x-python",
   "name": "python",
   "nbconvert_exporter": "python",
   "pygments_lexer": "ipython3",
   "version": "3.11.5"
  }
 },
 "nbformat": 4,
 "nbformat_minor": 5
}
