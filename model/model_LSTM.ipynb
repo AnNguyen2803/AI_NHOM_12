{
 "cells": [
  {
   "cell_type": "code",
   "execution_count": 2,
   "id": "e2773d74",
   "metadata": {},
   "outputs": [],
   "source": [
    "import pandas as pd\n",
    "import numpy as np\n",
    "import nltk\n",
    "from nltk.tokenize import word_tokenize\n",
    "from sklearn.preprocessing import LabelEncoder\n",
    "from sklearn.model_selection import train_test_split, KFold\n",
    "from tensorflow.keras.preprocessing.text import Tokenizer\n",
    "from tensorflow.keras.preprocessing.sequence import pad_sequences\n",
    "from tensorflow.keras.models import Sequential\n",
    "from tensorflow.keras.layers import Embedding, LSTM, Bidirectional, Dense, SpatialDropout1D, Conv1D, MaxPooling1D, Flatten\n",
    "from tensorflow.keras.utils import to_categorical\n",
    "from gensim.models import KeyedVectors\n",
    "from sklearn.metrics import precision_score, recall_score, f1_score\n",
    "import requests"
   ]
  },
  {
   "cell_type": "code",
   "execution_count": 3,
   "id": "f61bb012",
   "metadata": {},
   "outputs": [
    {
     "name": "stderr",
     "output_type": "stream",
     "text": [
      "[nltk_data] Downloading package punkt to\n",
      "[nltk_data]     C:\\Users\\AN\\AppData\\Roaming\\nltk_data...\n",
      "[nltk_data]   Package punkt is already up-to-date!\n"
     ]
    },
    {
     "data": {
      "text/plain": [
       "True"
      ]
     },
     "execution_count": 3,
     "metadata": {},
     "output_type": "execute_result"
    }
   ],
   "source": [
    "# Tải các tài nguyên cần thiết từ NLTK\n",
    "nltk.download('punkt')"
   ]
  },
  {
   "cell_type": "code",
   "execution_count": 4,
   "id": "a38ec370",
   "metadata": {},
   "outputs": [],
   "source": [
    "# Tải nội dung của tệp stop_words.py từ GitHub\n",
    "url = 'https://raw.githubusercontent.com/trungtv/vivi_spacy/master/vi/vi/stop_words.py'\n",
    "response = requests.get(url)\n",
    "stop_words_content = response.text"
   ]
  },
  {
   "cell_type": "code",
   "execution_count": 5,
   "id": "6129bcf3",
   "metadata": {},
   "outputs": [],
   "source": [
    "# Phân tích nội dung của tệp stop_words.py để lấy danh sách stopwords\n",
    "start_index = stop_words_content.find('\"\"\"') + 3\n",
    "end_index = stop_words_content.rfind('\"\"\"')\n",
    "stop_words_list = stop_words_content[start_index:end_index].split(\"\\n\")\n",
    "# Tạo danh sách stopwords từ danh sách bạn vừa phân tích\n",
    "stop_words = set(word.strip() for word in stop_words_list if word.strip())"
   ]
  },
  {
   "cell_type": "code",
   "execution_count": 6,
   "id": "b467ba2f",
   "metadata": {},
   "outputs": [],
   "source": [
    "# Tiền xử lý văn bản\n",
    "def preprocess_text(text):\n",
    "    words = word_tokenize(text.lower())\n",
    "    filtered_words = [word for word in words if word not in stop_words and word.isalnum()]\n",
    "    return ' '.join(filtered_words)"
   ]
  },
  {
   "cell_type": "code",
   "execution_count": 7,
   "id": "2040f0cb",
   "metadata": {},
   "outputs": [],
   "source": [
    "# Load dữ liệu\n",
    "df = pd.read_excel('data_xuly.xlsx')\n",
    "df.dropna(axis=1, how='all', inplace=True)\n",
    "contents = df['content'].tolist()\n",
    "topics = df['label'].tolist()\n",
    "contents = [str(content).strip() for content in contents]\n",
    "processed_contents = [preprocess_text(content) for content in contents]"
   ]
  },
  {
   "cell_type": "code",
   "execution_count": 8,
   "id": "418fc0d3",
   "metadata": {},
   "outputs": [],
   "source": [
    "# Tiền xử lý nhãn\n",
    "label_encoder = LabelEncoder()\n",
    "y = label_encoder.fit_transform(topics)\n",
    "\n",
    "num_classes = len(set(y))\n",
    "y = to_categorical(y, num_classes=num_classes)"
   ]
  },
  {
   "cell_type": "code",
   "execution_count": 9,
   "id": "7cd3b28e",
   "metadata": {},
   "outputs": [],
   "source": [
    "# Tokenization và padding\n",
    "tokenizer = Tokenizer(num_words=20000)\n",
    "tokenizer.fit_on_texts(processed_contents)\n",
    "X = tokenizer.texts_to_sequences(processed_contents)\n",
    "X = pad_sequences(X, maxlen=500)"
   ]
  },
  {
   "cell_type": "code",
   "execution_count": 11,
   "id": "3cd22119",
   "metadata": {},
   "outputs": [],
   "source": [
    "# Cross-validation\n",
    "kf = KFold(n_splits=4, shuffle=True, random_state=42)\n",
    "accuracy_scores = []\n",
    "precision_scores = []\n",
    "recall_scores = []\n",
    "f1_scores = []\n",
    "best_accuracy = 0\n",
    "best_model = None"
   ]
  },
  {
   "cell_type": "code",
   "execution_count": 12,
   "id": "b940df3a",
   "metadata": {},
   "outputs": [
    {
     "name": "stderr",
     "output_type": "stream",
     "text": [
      "C:\\Users\\AN\\Documents\\anaconda\\Lib\\site-packages\\keras\\src\\layers\\core\\embedding.py:90: UserWarning: Argument `input_length` is deprecated. Just remove it.\n",
      "  warnings.warn(\n"
     ]
    },
    {
     "name": "stdout",
     "output_type": "stream",
     "text": [
      "Epoch 1/10\n",
      "39/39 - 90s - 2s/step - accuracy: 0.3452 - loss: 1.8771 - val_accuracy: 0.4240 - val_loss: 1.5373\n",
      "Epoch 2/10\n",
      "39/39 - 94s - 2s/step - accuracy: 0.4695 - loss: 1.4650 - val_accuracy: 0.5114 - val_loss: 1.2824\n",
      "Epoch 3/10\n",
      "39/39 - 95s - 2s/step - accuracy: 0.6033 - loss: 1.1933 - val_accuracy: 0.7065 - val_loss: 0.9134\n",
      "Epoch 4/10\n",
      "39/39 - 95s - 2s/step - accuracy: 0.7288 - loss: 0.8211 - val_accuracy: 0.7477 - val_loss: 0.7759\n",
      "Epoch 5/10\n",
      "39/39 - 97s - 2s/step - accuracy: 0.7897 - loss: 0.6416 - val_accuracy: 0.7914 - val_loss: 0.6825\n",
      "Epoch 6/10\n",
      "39/39 - 105s - 3s/step - accuracy: 0.8295 - loss: 0.5098 - val_accuracy: 0.8074 - val_loss: 0.6463\n",
      "Epoch 7/10\n",
      "39/39 - 109s - 3s/step - accuracy: 0.8542 - loss: 0.4367 - val_accuracy: 0.8111 - val_loss: 0.5894\n",
      "Epoch 8/10\n",
      "39/39 - 102s - 3s/step - accuracy: 0.8794 - loss: 0.3461 - val_accuracy: 0.8271 - val_loss: 0.5982\n",
      "Epoch 9/10\n",
      "39/39 - 102s - 3s/step - accuracy: 0.9046 - loss: 0.2935 - val_accuracy: 0.8277 - val_loss: 0.6003\n",
      "Epoch 10/10\n",
      "39/39 - 102s - 3s/step - accuracy: 0.9223 - loss: 0.2365 - val_accuracy: 0.8388 - val_loss: 0.6179\n",
      "Fold accuracy: 0.838769257068634\n",
      "Precision: 0.8368442013557977\n",
      "Recall: 0.8387692307692308\n",
      "F1 Score: 0.8327691720805993\n",
      "Epoch 1/10\n"
     ]
    },
    {
     "name": "stderr",
     "output_type": "stream",
     "text": [
      "C:\\Users\\AN\\Documents\\anaconda\\Lib\\site-packages\\keras\\src\\layers\\core\\embedding.py:90: UserWarning: Argument `input_length` is deprecated. Just remove it.\n",
      "  warnings.warn(\n"
     ]
    },
    {
     "name": "stdout",
     "output_type": "stream",
     "text": [
      "39/39 - 98s - 3s/step - accuracy: 0.3280 - loss: 1.9425 - val_accuracy: 0.4332 - val_loss: 1.5021\n",
      "Epoch 2/10\n",
      "39/39 - 98s - 3s/step - accuracy: 0.5147 - loss: 1.3901 - val_accuracy: 0.6055 - val_loss: 1.1811\n",
      "Epoch 3/10\n",
      "39/39 - 99s - 3s/step - accuracy: 0.6195 - loss: 1.0837 - val_accuracy: 0.6702 - val_loss: 1.0077\n",
      "Epoch 4/10\n",
      "39/39 - 96s - 2s/step - accuracy: 0.7323 - loss: 0.8047 - val_accuracy: 0.7428 - val_loss: 0.8303\n",
      "Epoch 5/10\n",
      "39/39 - 97s - 2s/step - accuracy: 0.8152 - loss: 0.5576 - val_accuracy: 0.7766 - val_loss: 0.7251\n",
      "Epoch 6/10\n",
      "39/39 - 98s - 3s/step - accuracy: 0.8544 - loss: 0.4498 - val_accuracy: 0.7791 - val_loss: 0.6950\n",
      "Epoch 7/10\n",
      "39/39 - 97s - 2s/step - accuracy: 0.8802 - loss: 0.3683 - val_accuracy: 0.7957 - val_loss: 0.7020\n",
      "Epoch 8/10\n",
      "39/39 - 98s - 3s/step - accuracy: 0.8857 - loss: 0.3368 - val_accuracy: 0.7871 - val_loss: 0.7457\n",
      "Epoch 9/10\n",
      "39/39 - 99s - 3s/step - accuracy: 0.9048 - loss: 0.2728 - val_accuracy: 0.7822 - val_loss: 0.7728\n",
      "Epoch 10/10\n",
      "39/39 - 100s - 3s/step - accuracy: 0.9229 - loss: 0.2306 - val_accuracy: 0.7951 - val_loss: 0.7738\n",
      "Fold accuracy: 0.7950769066810608\n",
      "Precision: 0.8070220631021756\n",
      "Recall: 0.7950769230769231\n",
      "F1 Score: 0.7958454218017776\n",
      "Epoch 1/10\n"
     ]
    },
    {
     "name": "stderr",
     "output_type": "stream",
     "text": [
      "C:\\Users\\AN\\Documents\\anaconda\\Lib\\site-packages\\keras\\src\\layers\\core\\embedding.py:90: UserWarning: Argument `input_length` is deprecated. Just remove it.\n",
      "  warnings.warn(\n"
     ]
    },
    {
     "name": "stdout",
     "output_type": "stream",
     "text": [
      "39/39 - 101s - 3s/step - accuracy: 0.3405 - loss: 1.8854 - val_accuracy: 0.4585 - val_loss: 1.6045\n",
      "Epoch 2/10\n",
      "39/39 - 99s - 3s/step - accuracy: 0.4876 - loss: 1.4408 - val_accuracy: 0.5858 - val_loss: 1.2890\n",
      "Epoch 3/10\n",
      "39/39 - 99s - 3s/step - accuracy: 0.5953 - loss: 1.1566 - val_accuracy: 0.6677 - val_loss: 1.0157\n",
      "Epoch 4/10\n",
      "39/39 - 97s - 2s/step - accuracy: 0.7138 - loss: 0.8614 - val_accuracy: 0.7612 - val_loss: 0.7196\n",
      "Epoch 5/10\n",
      "39/39 - 100s - 3s/step - accuracy: 0.8086 - loss: 0.5823 - val_accuracy: 0.8197 - val_loss: 0.5731\n",
      "Epoch 6/10\n",
      "39/39 - 98s - 3s/step - accuracy: 0.8593 - loss: 0.4363 - val_accuracy: 0.8246 - val_loss: 0.5526\n",
      "Epoch 7/10\n",
      "39/39 - 105s - 3s/step - accuracy: 0.8837 - loss: 0.3337 - val_accuracy: 0.8585 - val_loss: 0.4528\n",
      "Epoch 8/10\n",
      "39/39 - 99s - 3s/step - accuracy: 0.8987 - loss: 0.3050 - val_accuracy: 0.8474 - val_loss: 0.5073\n",
      "Epoch 9/10\n",
      "39/39 - 105s - 3s/step - accuracy: 0.9194 - loss: 0.2395 - val_accuracy: 0.8511 - val_loss: 0.5236\n",
      "Epoch 10/10\n",
      "39/39 - 107s - 3s/step - accuracy: 0.9315 - loss: 0.2084 - val_accuracy: 0.8480 - val_loss: 0.5626\n",
      "Fold accuracy: 0.8479999899864197\n",
      "Precision: 0.8563993234119069\n",
      "Recall: 0.848\n",
      "F1 Score: 0.8486420292098094\n",
      "Epoch 1/10\n"
     ]
    },
    {
     "name": "stderr",
     "output_type": "stream",
     "text": [
      "C:\\Users\\AN\\Documents\\anaconda\\Lib\\site-packages\\keras\\src\\layers\\core\\embedding.py:90: UserWarning: Argument `input_length` is deprecated. Just remove it.\n",
      "  warnings.warn(\n"
     ]
    },
    {
     "name": "stdout",
     "output_type": "stream",
     "text": [
      "39/39 - 117s - 3s/step - accuracy: 0.3594 - loss: 1.8742 - val_accuracy: 0.4874 - val_loss: 1.5754\n",
      "Epoch 2/10\n",
      "39/39 - 110s - 3s/step - accuracy: 0.5198 - loss: 1.4090 - val_accuracy: 0.6129 - val_loss: 1.1156\n",
      "Epoch 3/10\n",
      "39/39 - 108s - 3s/step - accuracy: 0.6299 - loss: 1.0513 - val_accuracy: 0.6437 - val_loss: 1.0418\n",
      "Epoch 4/10\n",
      "39/39 - 107s - 3s/step - accuracy: 0.6964 - loss: 0.9027 - val_accuracy: 0.7348 - val_loss: 0.8013\n",
      "Epoch 5/10\n",
      "39/39 - 113s - 3s/step - accuracy: 0.7664 - loss: 0.6842 - val_accuracy: 0.7766 - val_loss: 0.6656\n",
      "Epoch 6/10\n",
      "39/39 - 107s - 3s/step - accuracy: 0.8027 - loss: 0.5547 - val_accuracy: 0.7920 - val_loss: 0.6345\n",
      "Epoch 7/10\n",
      "39/39 - 104s - 3s/step - accuracy: 0.8369 - loss: 0.4540 - val_accuracy: 0.8123 - val_loss: 0.5927\n",
      "Epoch 8/10\n",
      "39/39 - 107s - 3s/step - accuracy: 0.8722 - loss: 0.3693 - val_accuracy: 0.8363 - val_loss: 0.5541\n",
      "Epoch 9/10\n",
      "39/39 - 103s - 3s/step - accuracy: 0.8878 - loss: 0.3129 - val_accuracy: 0.8443 - val_loss: 0.5552\n",
      "Epoch 10/10\n",
      "39/39 - 106s - 3s/step - accuracy: 0.9083 - loss: 0.2751 - val_accuracy: 0.8357 - val_loss: 0.6070\n",
      "Fold accuracy: 0.835692286491394\n",
      "Precision: 0.8427846695290118\n",
      "Recall: 0.8356923076923077\n",
      "F1 Score: 0.8363186844002249\n"
     ]
    }
   ],
   "source": [
    "for train_index, test_index in kf.split(X):\n",
    "    X_train, X_test = X[train_index], X[test_index]\n",
    "    y_train, y_test = y[train_index], y[test_index]\n",
    "\n",
    "    # Xây dựng mô hình Bidirectional LSTM\n",
    "    model = Sequential()\n",
    "    model.add(Embedding(input_dim=20000, output_dim=128, input_length=500))\n",
    "    \n",
    "    model.add(SpatialDropout1D(0.3))\n",
    "    \n",
    "    \n",
    "    model.add(Bidirectional(LSTM(128, dropout=0.3, recurrent_dropout=0.3)))\n",
    "    \n",
    "    \n",
    "    model.add(Dense(256, activation='relu'))\n",
    "    model.add(Dense(num_classes, activation='softmax'))\n",
    "    \n",
    "    \n",
    "    model.compile(loss='categorical_crossentropy', optimizer='adam', metrics=['accuracy'])\n",
    "\n",
    "    # Huấn luyện mô hình\n",
    "    model.fit(X_train, y_train, epochs=10, batch_size=128, validation_data=(X_test, y_test), verbose=2)\n",
    "\n",
    "    # Đánh giá mô hình\n",
    "    loss, accuracy = model.evaluate(X_test, y_test, verbose=0)\n",
    "    accuracy_scores.append(accuracy)\n",
    "\n",
    "    # Dự đoán\n",
    "    y_pred = model.predict(X_test, verbose=0)\n",
    "    y_pred_classes = np.argmax(y_pred, axis=1)\n",
    "    y_test_classes = np.argmax(y_test, axis=1)\n",
    "\n",
    "    # Tính toán các độ đo\n",
    "    precision = precision_score(y_test_classes, y_pred_classes, average='weighted')\n",
    "    recall = recall_score(y_test_classes, y_pred_classes, average='weighted')\n",
    "    f1 = f1_score(y_test_classes, y_pred_classes, average='weighted')\n",
    "\n",
    "    precision_scores.append(precision)\n",
    "    recall_scores.append(recall)\n",
    "    f1_scores.append(f1)\n",
    "\n",
    "    # In ra các độ đo\n",
    "    print(f\"Fold accuracy: {accuracy}\")\n",
    "    print(f\"Precision: {precision}\")\n",
    "    print(f\"Recall: {recall}\")\n",
    "    print(f\"F1 Score: {f1}\")\n",
    "\n",
    "    # Lưu lại mô hình có độ chính xác cao nhất\n",
    "    if accuracy > best_accuracy:\n",
    "        best_accuracy = accuracy\n",
    "        best_model = model"
   ]
  },
  {
   "cell_type": "code",
   "execution_count": 13,
   "id": "9d6d8998",
   "metadata": {},
   "outputs": [
    {
     "name": "stdout",
     "output_type": "stream",
     "text": [
      "Mean accuracy: 0.8293846100568771\n",
      "Mean Precision: 0.8357625643497231\n",
      "Mean Recall: 0.8293846153846154\n",
      "Mean F1 Score: 0.8283938268731028\n"
     ]
    }
   ],
   "source": [
    "# In ra độ chính xác trung bình của tất cả các lần lặp\n",
    "print(f\"Mean accuracy: {np.mean(accuracy_scores)}\")\n",
    "print(f\"Mean Precision: {np.mean(precision_scores)}\")\n",
    "print(f\"Mean Recall: {np.mean(recall_scores)}\")\n",
    "print(f\"Mean F1 Score: {np.mean(f1_scores)}\")"
   ]
  },
  {
   "cell_type": "code",
   "execution_count": 14,
   "id": "6bcb1b8b",
   "metadata": {},
   "outputs": [
    {
     "name": "stdout",
     "output_type": "stream",
     "text": [
      "Best accuracy: 0.8479999899864197\n"
     ]
    }
   ],
   "source": [
    "print(f\"Best accuracy: {best_accuracy}\")"
   ]
  },
  {
   "cell_type": "code",
   "execution_count": 15,
   "id": "87f1ff34",
   "metadata": {},
   "outputs": [
    {
     "name": "stderr",
     "output_type": "stream",
     "text": [
      "WARNING:absl:You are saving your model as an HDF5 file via `model.save()` or `keras.saving.save_model(model)`. This file format is considered legacy. We recommend using instead the native Keras format, e.g. `model.save('my_model.keras')` or `keras.saving.save_model(model, 'my_model.keras')`. \n"
     ]
    }
   ],
   "source": [
    "best_model.save('best_model.h5')"
   ]
  },
  {
   "cell_type": "code",
   "execution_count": null,
   "id": "73483e71",
   "metadata": {},
   "outputs": [],
   "source": []
  }
 ],
 "metadata": {
  "kernelspec": {
   "display_name": "Python 3 (ipykernel)",
   "language": "python",
   "name": "python3"
  },
  "language_info": {
   "codemirror_mode": {
    "name": "ipython",
    "version": 3
   },
   "file_extension": ".py",
   "mimetype": "text/x-python",
   "name": "python",
   "nbconvert_exporter": "python",
   "pygments_lexer": "ipython3",
   "version": "3.11.5"
  }
 },
 "nbformat": 4,
 "nbformat_minor": 5
}
