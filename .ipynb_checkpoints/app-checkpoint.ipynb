{
 "cells": [
  {
   "cell_type": "code",
   "execution_count": 1,
   "id": "451667d3",
   "metadata": {
    "executionInfo": {
     "elapsed": 6743,
     "status": "ok",
     "timestamp": 1717857327778,
     "user": {
      "displayName": "An Nguyễn",
      "userId": "02405967052135983019"
     },
     "user_tz": -420
    },
    "id": "451667d3"
   },
   "outputs": [],
   "source": [
    "import pandas as pd\n",
    "import numpy as np\n",
    "import nltk\n",
    "from nltk.tokenize import word_tokenize\n",
    "from sklearn.preprocessing import LabelEncoder\n",
    "from sklearn.model_selection import train_test_split, KFold\n",
    "from tensorflow.keras.preprocessing.text import Tokenizer\n",
    "from tensorflow.keras.preprocessing.sequence import pad_sequences\n",
    "from tensorflow.keras.models import Sequential\n",
    "from tensorflow.keras.layers import Embedding, LSTM, Bidirectional, Dense, SpatialDropout1D, Conv1D, MaxPooling1D, Flatten\n",
    "from tensorflow.keras.utils import to_categorical\n",
    "from gensim.models import KeyedVectors\n",
    "import requests"
   ]
  },
  {
   "cell_type": "code",
   "execution_count": 2,
   "id": "063c33c1",
   "metadata": {
    "colab": {
     "base_uri": "https://localhost:8080/"
    },
    "executionInfo": {
     "elapsed": 513,
     "status": "ok",
     "timestamp": 1717857332398,
     "user": {
      "displayName": "An Nguyễn",
      "userId": "02405967052135983019"
     },
     "user_tz": -420
    },
    "id": "063c33c1",
    "outputId": "b3e47fd9-61c4-4c0f-c0eb-6612b93276ad"
   },
   "outputs": [
    {
     "name": "stderr",
     "output_type": "stream",
     "text": [
      "[nltk_data] Downloading package punkt to\n",
      "[nltk_data]     C:\\Users\\AN\\AppData\\Roaming\\nltk_data...\n",
      "[nltk_data]   Package punkt is already up-to-date!\n"
     ]
    }
   ],
   "source": [
    "# Tải các tài nguyên cần thiết từ NLTK\n",
    "nltk.download('punkt')\n",
    "\n",
    "# Tải nội dung của tệp stop_words.py từ GitHub\n",
    "url = 'https://raw.githubusercontent.com/trungtv/vivi_spacy/master/vi/vi/stop_words.py'\n",
    "response = requests.get(url)\n",
    "stop_words_content = response.text"
   ]
  },
  {
   "cell_type": "code",
   "execution_count": 3,
   "id": "819d2f34",
   "metadata": {
    "executionInfo": {
     "elapsed": 548,
     "status": "ok",
     "timestamp": 1717857335632,
     "user": {
      "displayName": "An Nguyễn",
      "userId": "02405967052135983019"
     },
     "user_tz": -420
    },
    "id": "819d2f34"
   },
   "outputs": [],
   "source": [
    "# Phân tích nội dung của tệp stop_words.py để lấy danh sách stopwords\n",
    "start_index = stop_words_content.find('\"\"\"') + 3\n",
    "end_index = stop_words_content.rfind('\"\"\"')\n",
    "stop_words_list = stop_words_content[start_index:end_index].split(\"\\n\")\n",
    "# Tạo danh sách stopwords từ danh sách bạn vừa phân tích\n",
    "stop_words = set(word.strip() for word in stop_words_list if word.strip())"
   ]
  },
  {
   "cell_type": "code",
   "execution_count": 6,
   "id": "ce33429f",
   "metadata": {
    "executionInfo": {
     "elapsed": 341,
     "status": "ok",
     "timestamp": 1717857338185,
     "user": {
      "displayName": "An Nguyễn",
      "userId": "02405967052135983019"
     },
     "user_tz": -420
    },
    "id": "ce33429f"
   },
   "outputs": [],
   "source": [
    "# Tạo danh sách stopwords từ danh sách bạn vừa phân tích\n",
    "stop_words = set(word.strip() for word in stop_words_list if word.strip())"
   ]
  },
  {
   "cell_type": "code",
   "execution_count": 4,
   "id": "e0910ee8",
   "metadata": {
    "executionInfo": {
     "elapsed": 2,
     "status": "ok",
     "timestamp": 1717857339634,
     "user": {
      "displayName": "An Nguyễn",
      "userId": "02405967052135983019"
     },
     "user_tz": -420
    },
    "id": "e0910ee8"
   },
   "outputs": [],
   "source": [
    "# Tiền xử lý văn bản\n",
    "def preprocess_text(text):\n",
    "    words = word_tokenize(text.lower())\n",
    "    filtered_words = [word for word in words if word not in stop_words and word.isalnum()]\n",
    "    return ' '.join(filtered_words)"
   ]
  },
  {
   "cell_type": "code",
   "execution_count": 5,
   "id": "OJmZCO9ySYkb",
   "metadata": {
    "executionInfo": {
     "elapsed": 2600,
     "status": "ok",
     "timestamp": 1717857728915,
     "user": {
      "displayName": "An Nguyễn",
      "userId": "02405967052135983019"
     },
     "user_tz": -420
    },
    "id": "OJmZCO9ySYkb"
   },
   "outputs": [],
   "source": [
    "# Load dữ liệu\n",
    "df = pd.read_excel('data_xuly.xlsx')\n",
    "df.dropna(axis=1, how='all', inplace=True)\n",
    "contents = df['content'].tolist()\n",
    "topics = df['label'].tolist()\n",
    "contents = [str(content).strip() for content in contents]\n",
    "processed_contents = [preprocess_text(content) for content in contents]"
   ]
  },
  {
   "cell_type": "code",
   "execution_count": 6,
   "id": "206dd76f",
   "metadata": {
    "executionInfo": {
     "elapsed": 660,
     "status": "ok",
     "timestamp": 1717857778750,
     "user": {
      "displayName": "An Nguyễn",
      "userId": "02405967052135983019"
     },
     "user_tz": -420
    },
    "id": "206dd76f"
   },
   "outputs": [],
   "source": [
    "# Tiền xử lý nhãn\n",
    "label_encoder = LabelEncoder()\n",
    "y = label_encoder.fit_transform(topics)\n",
    "num_classes = len(set(y))\n",
    "y = to_categorical(y, num_classes=num_classes)"
   ]
  },
  {
   "cell_type": "code",
   "execution_count": 7,
   "id": "60171667",
   "metadata": {
    "executionInfo": {
     "elapsed": 4,
     "status": "ok",
     "timestamp": 1717857821747,
     "user": {
      "displayName": "An Nguyễn",
      "userId": "02405967052135983019"
     },
     "user_tz": -420
    },
    "id": "60171667"
   },
   "outputs": [],
   "source": [
    "# Tokenization và padding\n",
    "tokenizer = Tokenizer(num_words=20000)\n",
    "tokenizer.fit_on_texts(processed_contents)\n",
    "X = tokenizer.texts_to_sequences(processed_contents)\n",
    "X = pad_sequences(X, maxlen=500)"
   ]
  },
  {
   "cell_type": "code",
   "execution_count": 8,
   "id": "NyboiQqNTiCz",
   "metadata": {
    "executionInfo": {
     "elapsed": 3,
     "status": "ok",
     "timestamp": 1717857827472,
     "user": {
      "displayName": "An Nguyễn",
      "userId": "02405967052135983019"
     },
     "user_tz": -420
    },
    "id": "NyboiQqNTiCz"
   },
   "outputs": [],
   "source": [
    "import tensorflow as tf"
   ]
  },
  {
   "cell_type": "code",
   "execution_count": 33,
   "id": "SQ4wfbmOTjcO",
   "metadata": {
    "colab": {
     "base_uri": "https://localhost:8080/"
    },
    "executionInfo": {
     "elapsed": 522,
     "status": "ok",
     "timestamp": 1717857886221,
     "user": {
      "displayName": "An Nguyễn",
      "userId": "02405967052135983019"
     },
     "user_tz": -420
    },
    "id": "SQ4wfbmOTjcO",
    "outputId": "af04f420-2e62-4ba3-edde-e988e8469624"
   },
   "outputs": [
    {
     "name": "stderr",
     "output_type": "stream",
     "text": [
      "WARNING:absl:Compiled the loaded model, but the compiled metrics have yet to be built. `model.compile_metrics` will be empty until you train or evaluate the model.\n"
     ]
    }
   ],
   "source": [
    "loaded_model = tf.keras.models.load_model('best_model2.h5')"
   ]
  },
  {
   "cell_type": "code",
   "execution_count": 39,
   "id": "UX-FkK8DTxtW",
   "metadata": {
    "id": "UX-FkK8DTxtW"
   },
   "outputs": [],
   "source": [
    "def predict_title(content):\n",
    "    processed_title = preprocess_text(content)\n",
    "    sequence = tokenizer.texts_to_sequences([processed_title])\n",
    "    padded_sequence = pad_sequences(sequence, maxlen=200)\n",
    "    prediction = loaded_model.predict(padded_sequence)\n",
    "    predicted_class = np.argmax(prediction, axis=1)\n",
    "    predicted_label = label_encoder.inverse_transform(predicted_class)\n",
    "    return predicted_label[0]"
   ]
  },
  {
   "cell_type": "code",
   "execution_count": 40,
   "id": "073d1458",
   "metadata": {},
   "outputs": [],
   "source": [
    "from flask import Flask, request, jsonify"
   ]
  },
  {
   "cell_type": "code",
   "execution_count": 41,
   "id": "eb83efb0",
   "metadata": {},
   "outputs": [],
   "source": [
    "app = Flask(__name__)"
   ]
  },
  {
   "cell_type": "code",
   "execution_count": 42,
   "id": "6b1787cd",
   "metadata": {},
   "outputs": [
    {
     "name": "stdout",
     "output_type": "stream",
     "text": [
      " * Serving Flask app '__main__'\n",
      " * Debug mode: on\n"
     ]
    },
    {
     "name": "stderr",
     "output_type": "stream",
     "text": [
      "INFO:werkzeug:\u001b[31m\u001b[1mWARNING: This is a development server. Do not use it in a production deployment. Use a production WSGI server instead.\u001b[0m\n",
      " * Running on http://127.0.0.1:5000\n",
      "INFO:werkzeug:\u001b[33mPress CTRL+C to quit\u001b[0m\n"
     ]
    },
    {
     "name": "stdout",
     "output_type": "stream",
     "text": [
      "\u001b[1m1/1\u001b[0m \u001b[32m━━━━━━━━━━━━━━━━━━━━\u001b[0m\u001b[37m\u001b[0m \u001b[1m0s\u001b[0m 43ms/step\n"
     ]
    },
    {
     "name": "stderr",
     "output_type": "stream",
     "text": [
      "INFO:werkzeug:127.0.0.1 - - [11/Jun/2024 20:41:04] \"POST /predict HTTP/1.1\" 200 -\n"
     ]
    },
    {
     "name": "stdout",
     "output_type": "stream",
     "text": [
      "\u001b[1m1/1\u001b[0m \u001b[32m━━━━━━━━━━━━━━━━━━━━\u001b[0m\u001b[37m\u001b[0m \u001b[1m0s\u001b[0m 59ms/step\n"
     ]
    },
    {
     "name": "stderr",
     "output_type": "stream",
     "text": [
      "INFO:werkzeug:127.0.0.1 - - [11/Jun/2024 20:41:22] \"POST /predict HTTP/1.1\" 200 -\n"
     ]
    }
   ],
   "source": [
    "@app.route('/predict', methods=['POST'])\n",
    "def predict():\n",
    "    content = request.json['content']\n",
    "    predicted_topic = predict_title(content)\n",
    "    return jsonify({'predicted_topic': predicted_topic})\n",
    "\n",
    "if __name__ == '__main__':\n",
    "    app.run(debug=True, use_reloader=False)"
   ]
  },
  {
   "cell_type": "code",
   "execution_count": null,
   "id": "eb2ee297",
   "metadata": {},
   "outputs": [],
   "source": []
  }
 ],
 "metadata": {
  "colab": {
   "provenance": []
  },
  "kernelspec": {
   "display_name": "Python 3 (ipykernel)",
   "language": "python",
   "name": "python3"
  },
  "language_info": {
   "codemirror_mode": {
    "name": "ipython",
    "version": 3
   },
   "file_extension": ".py",
   "mimetype": "text/x-python",
   "name": "python",
   "nbconvert_exporter": "python",
   "pygments_lexer": "ipython3",
   "version": "3.11.5"
  }
 },
 "nbformat": 4,
 "nbformat_minor": 5
}
