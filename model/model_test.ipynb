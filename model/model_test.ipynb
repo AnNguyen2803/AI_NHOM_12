{
 "cells": [
  {
   "cell_type": "code",
   "execution_count": 18,
   "metadata": {
    "id": "4m5eaCvekkkJ"
   },
   "outputs": [],
   "source": [
    "import pandas as pd\n",
    "import numpy as np\n",
    "import nltk\n",
    "from nltk.tokenize import word_tokenize\n",
    "from sklearn.preprocessing import LabelEncoder\n",
    "from sklearn.model_selection import train_test_split, KFold\n",
    "from tensorflow.keras.preprocessing.text import Tokenizer\n",
    "from keras.preprocessing.sequence import pad_sequences\n",
    "from keras.models import Sequential\n",
    "from keras.layers import Embedding, GRU, Dense, SpatialDropout1D\n",
    "from keras.utils import to_categorical\n",
    "import requests"
   ]
  },
  {
   "cell_type": "code",
   "execution_count": 19,
   "metadata": {
    "colab": {
     "base_uri": "https://localhost:8080/"
    },
    "id": "6adU4QYckq0z",
    "outputId": "3f99733b-b9db-4fb8-9887-75edfecb3ef5"
   },
   "outputs": [
    {
     "name": "stderr",
     "output_type": "stream",
     "text": [
      "[nltk_data] Downloading package punkt to\n",
      "[nltk_data]     C:\\Users\\AN\\AppData\\Roaming\\nltk_data...\n",
      "[nltk_data]   Package punkt is already up-to-date!\n"
     ]
    }
   ],
   "source": [
    "# Tải các tài nguyên cần thiết từ NLTK\n",
    "nltk.download('punkt')\n",
    "\n",
    "# Tải nội dung của tệp stop_words.py từ GitHub\n",
    "url = 'https://raw.githubusercontent.com/trungtv/vivi_spacy/master/vi/vi/stop_words.py'\n",
    "response = requests.get(url)\n",
    "stop_words_content = response.text"
   ]
  },
  {
   "cell_type": "code",
   "execution_count": 20,
   "metadata": {
    "id": "8C1dHCPNktVK"
   },
   "outputs": [],
   "source": [
    "# Phân tích nội dung của tệp stop_words.py để lấy danh sách stopwords\n",
    "start_index = stop_words_content.find('\"\"\"') + 3\n",
    "end_index = stop_words_content.rfind('\"\"\"')\n",
    "stop_words_list = stop_words_content[start_index:end_index].split(\"\\n\")"
   ]
  },
  {
   "cell_type": "code",
   "execution_count": 21,
   "metadata": {
    "id": "e8FLvezRkvSB"
   },
   "outputs": [],
   "source": [
    "# Tạo danh sách stopwords từ danh sách bạn vừa phân tích\n",
    "stop_words = set(word.strip() for word in stop_words_list if word.strip())"
   ]
  },
  {
   "cell_type": "code",
   "execution_count": 22,
   "metadata": {
    "id": "miOeGFPmkw3S"
   },
   "outputs": [],
   "source": [
    "# Tiền xử lý văn bản\n",
    "def preprocess_text(text):\n",
    "    words = word_tokenize(text.lower())\n",
    "    filtered_words = [word for word in words if word not in stop_words and word.isalnum()]\n",
    "    return ' '.join(filtered_words)"
   ]
  },
  {
   "cell_type": "code",
   "execution_count": 23,
   "metadata": {
    "id": "9CrIaovvkyt6"
   },
   "outputs": [],
   "source": [
    "# Load dữ liệu\n",
    "df = pd.read_excel('data.xlsx')\n",
    "df.dropna(axis=1, how='all', inplace=True)\n",
    "contents = df['Title'].tolist()\n",
    "topics = df['Topics'].tolist()\n",
    "contents = [str(content).strip() for content in contents]\n",
    "processed_contents = [preprocess_text(content) for content in contents]"
   ]
  },
  {
   "cell_type": "code",
   "execution_count": 24,
   "metadata": {
    "id": "okHQufKlk0xZ"
   },
   "outputs": [],
   "source": [
    "# Tiền xử lý nhãn\n",
    "label_encoder = LabelEncoder()\n",
    "y = label_encoder.fit_transform(topics)\n",
    "num_classes = len(set(y))\n",
    "y = to_categorical(y, num_classes=num_classes)"
   ]
  },
  {
   "cell_type": "code",
   "execution_count": 25,
   "metadata": {
    "id": "k3haCgXfk2kh"
   },
   "outputs": [],
   "source": [
    "# Tokenization và padding\n",
    "tokenizer = Tokenizer(num_words=10000)\n",
    "tokenizer.fit_on_texts(processed_contents)\n",
    "X = tokenizer.texts_to_sequences(processed_contents)\n",
    "X = pad_sequences(X, maxlen=200)"
   ]
  },
  {
   "cell_type": "code",
   "execution_count": 26,
   "metadata": {
    "id": "gUNE33mjk4eB"
   },
   "outputs": [],
   "source": [
    "# Cross-validation\n",
    "kf = KFold(n_splits=5, shuffle=True, random_state=42)\n",
    "accuracy_scores = []\n",
    "best_accuracy = 0\n",
    "best_model = None"
   ]
  },
  {
   "cell_type": "code",
   "execution_count": 27,
   "metadata": {
    "colab": {
     "base_uri": "https://localhost:8080/"
    },
    "id": "30tKWHG6k6Ji",
    "outputId": "1d3aa55f-dc1a-49fc-bb08-82c13e21b1a7"
   },
   "outputs": [
    {
     "name": "stdout",
     "output_type": "stream",
     "text": [
      "Epoch 1/10\n"
     ]
    },
    {
     "name": "stderr",
     "output_type": "stream",
     "text": [
      "c:\\Users\\AN\\AppData\\Local\\Programs\\Python\\Python312\\Lib\\site-packages\\keras\\src\\layers\\core\\embedding.py:90: UserWarning: Argument `input_length` is deprecated. Just remove it.\n",
      "  warnings.warn(\n"
     ]
    },
    {
     "name": "stdout",
     "output_type": "stream",
     "text": [
      "14/14 - 7s - 512ms/step - accuracy: 0.2351 - loss: 1.7755 - val_accuracy: 0.2877 - val_loss: 1.7460\n",
      "Epoch 2/10\n",
      "14/14 - 3s - 199ms/step - accuracy: 0.2810 - loss: 1.6653 - val_accuracy: 0.3699 - val_loss: 1.6110\n",
      "Epoch 3/10\n",
      "14/14 - 3s - 194ms/step - accuracy: 0.4989 - loss: 1.3546 - val_accuracy: 0.5708 - val_loss: 1.2747\n",
      "Epoch 4/10\n",
      "14/14 - 3s - 193ms/step - accuracy: 0.7041 - loss: 0.9288 - val_accuracy: 0.6895 - val_loss: 1.0068\n",
      "Epoch 5/10\n",
      "14/14 - 3s - 192ms/step - accuracy: 0.8188 - loss: 647742016.0000 - val_accuracy: 0.6895 - val_loss: 0.9803\n",
      "Epoch 6/10\n",
      "14/14 - 3s - 208ms/step - accuracy: 0.8567 - loss: 35165732.0000 - val_accuracy: 0.6986 - val_loss: 0.8957\n",
      "Epoch 7/10\n",
      "14/14 - 3s - 203ms/step - accuracy: 0.9151 - loss: 0.4367 - val_accuracy: 0.7260 - val_loss: 0.8367\n",
      "Epoch 8/10\n",
      "14/14 - 3s - 207ms/step - accuracy: 0.9392 - loss: 0.3292 - val_accuracy: 0.7534 - val_loss: 0.7964\n",
      "Epoch 9/10\n",
      "14/14 - 3s - 201ms/step - accuracy: 0.9576 - loss: 0.2476 - val_accuracy: 0.7580 - val_loss: 0.7656\n",
      "Epoch 10/10\n",
      "14/14 - 3s - 200ms/step - accuracy: 0.9656 - loss: 0.1907 - val_accuracy: 0.7626 - val_loss: 0.7461\n",
      "Fold accuracy: 0.7625570893287659\n",
      "Epoch 1/10\n",
      "14/14 - 6s - 461ms/step - accuracy: 0.2635 - loss: 1.7730 - val_accuracy: 0.2339 - val_loss: 1.7558\n",
      "Epoch 2/10\n",
      "14/14 - 3s - 214ms/step - accuracy: 0.2703 - loss: 1.6784 - val_accuracy: 0.2936 - val_loss: 1.6435\n",
      "Epoch 3/10\n",
      "14/14 - 3s - 192ms/step - accuracy: 0.5006 - loss: 1.3925 - val_accuracy: 0.5872 - val_loss: 1.3406\n",
      "Epoch 4/10\n",
      "14/14 - 3s - 188ms/step - accuracy: 0.7033 - loss: 66.4015 - val_accuracy: 0.6376 - val_loss: 1.1629\n",
      "Epoch 5/10\n",
      "14/14 - 3s - 192ms/step - accuracy: 0.8213 - loss: 0.8423 - val_accuracy: 0.6606 - val_loss: 1.0301\n",
      "Epoch 6/10\n",
      "14/14 - 3s - 190ms/step - accuracy: 0.8855 - loss: 0.5775 - val_accuracy: 0.7156 - val_loss: 0.8697\n",
      "Epoch 7/10\n",
      "14/14 - 3s - 192ms/step - accuracy: 0.9233 - loss: 0.3764 - val_accuracy: 0.7110 - val_loss: 0.7969\n",
      "Epoch 8/10\n",
      "14/14 - 3s - 184ms/step - accuracy: 0.9519 - loss: 0.2306 - val_accuracy: 0.7339 - val_loss: 0.7462\n",
      "Epoch 9/10\n",
      "14/14 - 3s - 182ms/step - accuracy: 0.9656 - loss: 0.1633 - val_accuracy: 0.7385 - val_loss: 0.7221\n",
      "Epoch 10/10\n",
      "14/14 - 3s - 189ms/step - accuracy: 0.9737 - loss: 0.1149 - val_accuracy: 0.7431 - val_loss: 0.7155\n",
      "Fold accuracy: 0.7431192398071289\n",
      "Epoch 1/10\n",
      "14/14 - 6s - 462ms/step - accuracy: 0.2268 - loss: 1.7769 - val_accuracy: 0.2523 - val_loss: 1.7535\n",
      "Epoch 2/10\n",
      "14/14 - 3s - 216ms/step - accuracy: 0.2486 - loss: 1.6954 - val_accuracy: 0.2936 - val_loss: 1.6568\n",
      "Epoch 3/10\n",
      "14/14 - 3s - 200ms/step - accuracy: 0.4525 - loss: 1.4506 - val_accuracy: 0.5413 - val_loss: 1.3684\n",
      "Epoch 4/10\n",
      "14/14 - 3s - 227ms/step - accuracy: 0.6758 - loss: 1.0051 - val_accuracy: 0.6743 - val_loss: 1.0689\n",
      "Epoch 5/10\n",
      "14/14 - 3s - 198ms/step - accuracy: 0.8293 - loss: 0.6443 - val_accuracy: 0.7248 - val_loss: 0.8659\n",
      "Epoch 6/10\n",
      "14/14 - 3s - 201ms/step - accuracy: 0.8855 - loss: 0.3691 - val_accuracy: 0.7339 - val_loss: 0.7906\n",
      "Epoch 7/10\n",
      "14/14 - 3s - 205ms/step - accuracy: 0.9473 - loss: 0.2039 - val_accuracy: 0.7477 - val_loss: 0.7351\n",
      "Epoch 8/10\n",
      "14/14 - 3s - 198ms/step - accuracy: 0.9668 - loss: 0.1273 - val_accuracy: 0.7661 - val_loss: 0.7281\n",
      "Epoch 9/10\n",
      "14/14 - 3s - 192ms/step - accuracy: 0.9771 - loss: 0.0929 - val_accuracy: 0.7706 - val_loss: 0.7199\n",
      "Epoch 10/10\n",
      "14/14 - 3s - 197ms/step - accuracy: 0.9771 - loss: 0.0733 - val_accuracy: 0.7844 - val_loss: 0.7287\n",
      "Fold accuracy: 0.7844036817550659\n",
      "Epoch 1/10\n",
      "14/14 - 6s - 404ms/step - accuracy: 0.2394 - loss: 1.7732 - val_accuracy: 0.2477 - val_loss: 1.7446\n",
      "Epoch 2/10\n",
      "14/14 - 3s - 207ms/step - accuracy: 0.2646 - loss: 1.6713 - val_accuracy: 0.3073 - val_loss: 1.6257\n",
      "Epoch 3/10\n",
      "14/14 - 3s - 211ms/step - accuracy: 0.5235 - loss: 9219179.0000 - val_accuracy: 0.4862 - val_loss: 1.3479\n",
      "Epoch 4/10\n",
      "14/14 - 3s - 205ms/step - accuracy: 0.6838 - loss: 1.0812 - val_accuracy: 0.6101 - val_loss: 1.1646\n",
      "Epoch 5/10\n",
      "14/14 - 3s - 191ms/step - accuracy: 0.7938 - loss: 0.7694 - val_accuracy: 0.6789 - val_loss: 0.9723\n",
      "Epoch 6/10\n",
      "14/14 - 3s - 195ms/step - accuracy: 0.8832 - loss: 0.5015 - val_accuracy: 0.6743 - val_loss: 0.8463\n",
      "Epoch 7/10\n",
      "14/14 - 3s - 200ms/step - accuracy: 0.9313 - loss: 0.3144 - val_accuracy: 0.7294 - val_loss: 0.7661\n",
      "Epoch 8/10\n",
      "14/14 - 3s - 211ms/step - accuracy: 0.9542 - loss: 0.2114 - val_accuracy: 0.7339 - val_loss: 0.7303\n",
      "Epoch 9/10\n",
      "14/14 - 3s - 209ms/step - accuracy: 0.9565 - loss: 0.1610 - val_accuracy: 0.7523 - val_loss: 0.7228\n",
      "Epoch 10/10\n",
      "14/14 - 3s - 208ms/step - accuracy: 0.9805 - loss: 0.1115 - val_accuracy: 0.7569 - val_loss: 0.7146\n",
      "Fold accuracy: 0.7568807601928711\n",
      "Epoch 1/10\n",
      "14/14 - 6s - 424ms/step - accuracy: 0.2680 - loss: 1.7747 - val_accuracy: 0.2523 - val_loss: 1.7485\n",
      "Epoch 2/10\n",
      "14/14 - 3s - 191ms/step - accuracy: 0.2795 - loss: 1.6735 - val_accuracy: 0.3211 - val_loss: 1.6340\n",
      "Epoch 3/10\n",
      "14/14 - 3s - 190ms/step - accuracy: 0.4410 - loss: 1.3750 - val_accuracy: 0.4908 - val_loss: 1.3315\n",
      "Epoch 4/10\n",
      "14/14 - 3s - 192ms/step - accuracy: 0.5578 - loss: 14783425.0000 - val_accuracy: 0.5092 - val_loss: 1.2682\n",
      "Epoch 5/10\n",
      "14/14 - 3s - 191ms/step - accuracy: 0.6277 - loss: 1.0104 - val_accuracy: 0.5963 - val_loss: 1.1397\n",
      "Epoch 6/10\n",
      "14/14 - 3s - 187ms/step - accuracy: 0.7835 - loss: 0.7968 - val_accuracy: 0.7110 - val_loss: 1.0098\n",
      "Epoch 7/10\n",
      "14/14 - 3s - 201ms/step - accuracy: 0.8912 - loss: 0.5985 - val_accuracy: 0.7523 - val_loss: 0.8841\n",
      "Epoch 8/10\n",
      "14/14 - 3s - 209ms/step - accuracy: 0.9233 - loss: 0.4237 - val_accuracy: 0.7569 - val_loss: 0.7883\n",
      "Epoch 9/10\n",
      "14/14 - 3s - 190ms/step - accuracy: 0.9416 - loss: 0.3002 - val_accuracy: 0.7661 - val_loss: 0.7241\n",
      "Epoch 10/10\n",
      "14/14 - 3s - 193ms/step - accuracy: 0.9565 - loss: 0.2209 - val_accuracy: 0.7706 - val_loss: 0.6830\n",
      "Fold accuracy: 0.7706422209739685\n"
     ]
    }
   ],
   "source": [
    "for train_index, test_index in kf.split(X):\n",
    "    X_train, X_test = X[train_index], X[test_index]\n",
    "    y_train, y_test = y[train_index], y[test_index]\n",
    "\n",
    "    # Xây dựng mô hình GRU\n",
    "    model = Sequential()\n",
    "    model.add(Embedding(input_dim=10000, output_dim=128, input_length=200))\n",
    "    model.add(SpatialDropout1D(0.2))\n",
    "    model.add(GRU(100, dropout=0.2, recurrent_dropout=0.2))\n",
    "    model.add(Dense(128, activation='relu'))\n",
    "    model.add(Dense(num_classes, activation='softmax'))\n",
    "    model.compile(loss='categorical_crossentropy', optimizer='adam', metrics=['accuracy'])\n",
    "\n",
    "    # Huấn luyện mô hình\n",
    "    model.fit(X_train, y_train, epochs=10, batch_size=64, validation_data=(X_test, y_test), verbose=2)\n",
    "\n",
    "    # Đánh giá mô hình\n",
    "    loss, accuracy = model.evaluate(X_test, y_test, verbose=0)\n",
    "    accuracy_scores.append(accuracy)\n",
    "    print(f\"Fold accuracy: {accuracy}\")\n",
    "    # Lưu lại mô hình có độ chính xác cao nhất\n",
    "    if accuracy > best_accuracy:\n",
    "        best_accuracy = accuracy\n",
    "        best_model = model"
   ]
  },
  {
   "cell_type": "code",
   "execution_count": 28,
   "metadata": {
    "colab": {
     "base_uri": "https://localhost:8080/"
    },
    "id": "Wh9BeLmVn7vh",
    "outputId": "7193186e-387a-4ccf-ad80-e4d194b88c26"
   },
   "outputs": [
    {
     "name": "stderr",
     "output_type": "stream",
     "text": [
      "WARNING:absl:You are saving your model as an HDF5 file via `model.save()` or `keras.saving.save_model(model)`. This file format is considered legacy. We recommend using instead the native Keras format, e.g. `model.save('my_model.keras')` or `keras.saving.save_model(model, 'my_model.keras')`. \n"
     ]
    }
   ],
   "source": [
    "# Lưu mô hình có độ chính xác cao nhất\n",
    "best_model.save('best_model.h5')"
   ]
  },
  {
   "cell_type": "code",
   "execution_count": 29,
   "metadata": {},
   "outputs": [
    {
     "name": "stdout",
     "output_type": "stream",
     "text": [
      "Phiên bản TensorFlow: 2.16.1\n"
     ]
    }
   ],
   "source": [
    "print(\"Phiên bản TensorFlow:\", tf.__version__)"
   ]
  },
  {
   "cell_type": "code",
   "execution_count": 30,
   "metadata": {
    "id": "FKzIAdYNn8FN"
   },
   "outputs": [
    {
     "name": "stderr",
     "output_type": "stream",
     "text": [
      "WARNING:absl:Compiled the loaded model, but the compiled metrics have yet to be built. `model.compile_metrics` will be empty until you train or evaluate the model.\n"
     ]
    }
   ],
   "source": [
    "import tensorflow as tf\n",
    "# Tải lại mô hình để sử dụng cho dự đoán\n",
    "loaded_model = tf.keras.models.load_model('best_model.h5')"
   ]
  },
  {
   "cell_type": "code",
   "execution_count": 47,
   "metadata": {
    "id": "hwJoSpbT9Tz3"
   },
   "outputs": [],
   "source": [
    "# Hàm dự đoán tiêu đề\n",
    "def predict_title(title):\n",
    "    processed_title = preprocess_text(title)\n",
    "    sequence = tokenizer.texts_to_sequences([processed_title])\n",
    "    padded_sequence = pad_sequences(sequence, maxlen=200)\n",
    "    prediction = loaded_model.predict(padded_sequence)\n",
    "    predicted_class = np.argmax(prediction, axis=1)\n",
    "    predicted_label = label_encoder.inverse_transform(predicted_class)\n",
    "    return predicted_label[0]"
   ]
  },
  {
   "cell_type": "code",
   "execution_count": 48,
   "metadata": {
    "colab": {
     "base_uri": "https://localhost:8080/"
    },
    "id": "TbNRkw-S9mf8",
    "outputId": "e99a6bcc-5957-4af4-a351-75b95fcaa654"
   },
   "outputs": [
    {
     "name": "stdout",
     "output_type": "stream",
     "text": [
      "\u001b[1m1/1\u001b[0m \u001b[32m━━━━━━━━━━━━━━━━━━━━\u001b[0m\u001b[37m\u001b[0m \u001b[1m0s\u001b[0m 35ms/step\n",
      "Predicted topic: Thế giới\n"
     ]
    }
   ],
   "source": [
    "# Sử dụng hàm dự đoán\n",
    "title = \"Đâu là giới hạn tiếp theo khi phương Tây dần dỡ bỏ các lằn ranh đỏ với Ukraine?\"\n",
    "predicted_topic = predict_title(title)\n",
    "print(f\"Predicted topic: {predicted_topic}\")"
   ]
  },
  {
   "cell_type": "code",
   "execution_count": 49,
   "metadata": {},
   "outputs": [],
   "source": [
    "from flask import Flask, request, jsonify"
   ]
  },
  {
   "cell_type": "code",
   "execution_count": 50,
   "metadata": {},
   "outputs": [],
   "source": [
    "app = Flask(__name__)"
   ]
  },
  {
   "cell_type": "code",
   "execution_count": 51,
   "metadata": {},
   "outputs": [
    {
     "name": "stdout",
     "output_type": "stream",
     "text": [
      " * Serving Flask app '__main__'\n",
      " * Debug mode: on\n"
     ]
    },
    {
     "name": "stderr",
     "output_type": "stream",
     "text": [
      "INFO:werkzeug:\u001b[31m\u001b[1mWARNING: This is a development server. Do not use it in a production deployment. Use a production WSGI server instead.\u001b[0m\n",
      " * Running on http://127.0.0.1:5000\n",
      "INFO:werkzeug:\u001b[33mPress CTRL+C to quit\u001b[0m\n"
     ]
    },
    {
     "name": "stdout",
     "output_type": "stream",
     "text": [
      "\u001b[1m1/1\u001b[0m \u001b[32m━━━━━━━━━━━━━━━━━━━━\u001b[0m\u001b[37m\u001b[0m \u001b[1m0s\u001b[0m 42ms/step\n"
     ]
    },
    {
     "name": "stderr",
     "output_type": "stream",
     "text": [
      "INFO:werkzeug:127.0.0.1 - - [08/Jun/2024 22:59:10] \"POST /predict HTTP/1.1\" 200 -\n"
     ]
    },
    {
     "name": "stdout",
     "output_type": "stream",
     "text": [
      "\u001b[1m1/1\u001b[0m \u001b[32m━━━━━━━━━━━━━━━━━━━━\u001b[0m\u001b[37m\u001b[0m \u001b[1m0s\u001b[0m 49ms/step\n"
     ]
    },
    {
     "name": "stderr",
     "output_type": "stream",
     "text": [
      "INFO:werkzeug:127.0.0.1 - - [08/Jun/2024 23:01:06] \"POST /predict HTTP/1.1\" 200 -\n"
     ]
    }
   ],
   "source": [
    "@app.route('/predict', methods=['POST'])\n",
    "def predict():\n",
    "    content = request.json['content']\n",
    "    predicted_topic = predict_title(content)\n",
    "    return jsonify({'predicted_topic': predicted_topic})\n",
    "\n",
    "if __name__ == '__main__':\n",
    "    app.run(debug=True, use_reloader=False)"
   ]
  },
  {
   "cell_type": "code",
   "execution_count": null,
   "metadata": {},
   "outputs": [],
   "source": []
  }
 ],
 "metadata": {
  "colab": {
   "provenance": []
  },
  "kernelspec": {
   "display_name": "Python 3 (ipykernel)",
   "language": "python",
   "name": "python3"
  },
  "language_info": {
   "codemirror_mode": {
    "name": "ipython",
    "version": 3
   },
   "file_extension": ".py",
   "mimetype": "text/x-python",
   "name": "python",
   "nbconvert_exporter": "python",
   "pygments_lexer": "ipython3",
   "version": "3.11.5"
  }
 },
 "nbformat": 4,
 "nbformat_minor": 1
}
